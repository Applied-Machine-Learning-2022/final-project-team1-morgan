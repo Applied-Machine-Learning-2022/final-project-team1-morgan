{
 "cells": [
  {
   "cell_type": "code",
   "execution_count": 2,
   "metadata": {},
   "outputs": [
    {
     "name": "stdout",
     "output_type": "stream",
     "text": [
      "Requirement already satisfied: kaggle in c:\\users\\antea1\\anaconda3\\lib\\site-packages (1.5.12)\n",
      "Requirement already satisfied: tqdm in c:\\users\\antea1\\anaconda3\\lib\\site-packages (from kaggle) (4.64.0)\n",
      "Requirement already satisfied: python-slugify in c:\\users\\antea1\\anaconda3\\lib\\site-packages (from kaggle) (5.0.2)\n",
      "Requirement already satisfied: python-dateutil in c:\\users\\antea1\\anaconda3\\lib\\site-packages (from kaggle) (2.8.2)\n",
      "Requirement already satisfied: certifi in c:\\users\\antea1\\anaconda3\\lib\\site-packages (from kaggle) (2022.6.15)\n",
      "Requirement already satisfied: urllib3 in c:\\users\\antea1\\anaconda3\\lib\\site-packages (from kaggle) (1.24.3)\n",
      "Requirement already satisfied: requests in c:\\users\\antea1\\anaconda3\\lib\\site-packages (from kaggle) (2.27.1)\n",
      "Requirement already satisfied: six>=1.10 in c:\\users\\antea1\\anaconda3\\lib\\site-packages (from kaggle) (1.16.0)\n",
      "Requirement already satisfied: text-unidecode>=1.3 in c:\\users\\antea1\\anaconda3\\lib\\site-packages (from python-slugify->kaggle) (1.3)\n",
      "Requirement already satisfied: idna<4,>=2.5 in c:\\users\\antea1\\anaconda3\\lib\\site-packages (from requests->kaggle) (3.3)\n",
      "Requirement already satisfied: charset-normalizer~=2.0.0 in c:\\users\\antea1\\anaconda3\\lib\\site-packages (from requests->kaggle) (2.0.4)\n",
      "Requirement already satisfied: colorama in c:\\users\\antea1\\anaconda3\\lib\\site-packages (from tqdm->kaggle) (0.4.4)\n",
      "Requirement already satisfied: opendatasets in c:\\users\\antea1\\anaconda3\\lib\\site-packages (0.1.22)\n",
      "Requirement already satisfied: click in c:\\users\\antea1\\anaconda3\\lib\\site-packages (from opendatasets) (8.0.4)\n",
      "Requirement already satisfied: tqdm in c:\\users\\antea1\\anaconda3\\lib\\site-packages (from opendatasets) (4.64.0)\n",
      "Requirement already satisfied: kaggle in c:\\users\\antea1\\anaconda3\\lib\\site-packages (from opendatasets) (1.5.12)\n",
      "Requirement already satisfied: colorama in c:\\users\\antea1\\anaconda3\\lib\\site-packages (from click->opendatasets) (0.4.4)\n",
      "Requirement already satisfied: certifi in c:\\users\\antea1\\anaconda3\\lib\\site-packages (from kaggle->opendatasets) (2022.6.15)\n",
      "Requirement already satisfied: python-slugify in c:\\users\\antea1\\anaconda3\\lib\\site-packages (from kaggle->opendatasets) (5.0.2)\n",
      "Requirement already satisfied: six>=1.10 in c:\\users\\antea1\\anaconda3\\lib\\site-packages (from kaggle->opendatasets) (1.16.0)\n",
      "Requirement already satisfied: requests in c:\\users\\antea1\\anaconda3\\lib\\site-packages (from kaggle->opendatasets) (2.27.1)\n",
      "Requirement already satisfied: urllib3 in c:\\users\\antea1\\anaconda3\\lib\\site-packages (from kaggle->opendatasets) (1.24.3)\n",
      "Requirement already satisfied: python-dateutil in c:\\users\\antea1\\anaconda3\\lib\\site-packages (from kaggle->opendatasets) (2.8.2)\n",
      "Requirement already satisfied: text-unidecode>=1.3 in c:\\users\\antea1\\anaconda3\\lib\\site-packages (from python-slugify->kaggle->opendatasets) (1.3)\n",
      "Requirement already satisfied: idna<4,>=2.5 in c:\\users\\antea1\\anaconda3\\lib\\site-packages (from requests->kaggle->opendatasets) (3.3)\n",
      "Requirement already satisfied: charset-normalizer~=2.0.0 in c:\\users\\antea1\\anaconda3\\lib\\site-packages (from requests->kaggle->opendatasets) (2.0.4)\n"
     ]
    }
   ],
   "source": [
    "!pip install kaggle\n",
    "!pip install opendatasets"
   ]
  },
  {
   "cell_type": "code",
   "execution_count": 8,
   "metadata": {},
   "outputs": [],
   "source": [
    "import pandas as pd\n",
    "import os\n",
    "\n",
    "path_1 = os.path.abspath(\"Capstone.ipynb\")"
   ]
  },
  {
   "cell_type": "code",
   "execution_count": 9,
   "metadata": {},
   "outputs": [
    {
     "ename": "AttributeError",
     "evalue": "'_Printer' object has no attribute 'csv'",
     "output_type": "error",
     "traceback": [
      "\u001b[1;31m---------------------------------------------------------------------------\u001b[0m",
      "\u001b[1;31mAttributeError\u001b[0m                            Traceback (most recent call last)",
      "\u001b[1;32mc:\\Users\\antea1\\Documents\\GitHub\\final-project-team1-morgan\\Untitled.ipynb Cell 3\u001b[0m in \u001b[0;36m<cell line: 1>\u001b[1;34m()\u001b[0m\n\u001b[1;32m----> <a href='vscode-notebook-cell:/c%3A/Users/antea1/Documents/GitHub/final-project-team1-morgan/Untitled.ipynb#ch0000003?line=0'>1</a>\u001b[0m vb\u001b[39m=\u001b[39m pd\u001b[39m.\u001b[39mread_csv(credits\u001b[39m.\u001b[39;49mcsv)\n",
      "\u001b[1;31mAttributeError\u001b[0m: '_Printer' object has no attribute 'csv'"
     ]
    }
   ],
   "source": [
    "vb= pd.read_csv(credits.csv)"
   ]
  },
  {
   "cell_type": "code",
   "execution_count": 7,
   "metadata": {},
   "outputs": [
    {
     "name": "stdout",
     "output_type": "stream",
     "text": [
      "Downloading the-movies-dataset.zip to .\\the-movies-dataset\n"
     ]
    },
    {
     "name": "stderr",
     "output_type": "stream",
     "text": [
      "100%|██████████| 228M/228M [00:02<00:00, 115MB/s]  \n"
     ]
    },
    {
     "name": "stdout",
     "output_type": "stream",
     "text": [
      "\n"
     ]
    }
   ],
   "source": [
    "import opendatasets\n",
    "\n",
    "opendatasets.download('https://www.kaggle.com/datasets/rounakbanik/the-movies-dataset')"
   ]
  }
 ],
 "metadata": {
  "kernelspec": {
   "display_name": "Python 3.9.12 ('base')",
   "language": "python",
   "name": "python3"
  },
  "language_info": {
   "codemirror_mode": {
    "name": "ipython",
    "version": 3
   },
   "file_extension": ".py",
   "mimetype": "text/x-python",
   "name": "python",
   "nbconvert_exporter": "python",
   "pygments_lexer": "ipython3",
   "version": "3.9.12"
  },
  "orig_nbformat": 4,
  "vscode": {
   "interpreter": {
    "hash": "0e40cc60a71bd58b1a0f7945e529d02aa53d1d910f686d351b2a960cef6c7463"
   }
  }
 },
 "nbformat": 4,
 "nbformat_minor": 2
}
